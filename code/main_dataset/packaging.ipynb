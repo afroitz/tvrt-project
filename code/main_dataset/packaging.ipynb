{
 "cells": [
  {
   "cell_type": "code",
   "execution_count": 6,
   "metadata": {},
   "outputs": [],
   "source": [
    "import os\n",
    "import shutil"
   ]
  },
  {
   "cell_type": "code",
   "execution_count": 62,
   "metadata": {},
   "outputs": [],
   "source": [
    "# Config\n",
    "export_name = '' # Name for the final packaged dataset\n",
    "filtered_name = '' # Name of the filtered dataset file (the samples for annotation) within the main_dataset folder\n",
    "full_name = '' # Name of the full dataset file (including additional data required for annotation samples, e.g. replies) within the main_dataset folder\n",
    "task_name = '' # Name of the task file within the main_dataset folder"
   ]
  },
  {
   "cell_type": "code",
   "execution_count": null,
   "metadata": {},
   "outputs": [],
   "source": [
    "# Create temp dir if not exists\n",
    "temp_path = os.path.abspath(os.path.join('../../temp'))\n",
    "\n",
    "if not os.path.exists(temp_path) or not os.path.isdir(temp_path):\n",
    "    os.makedirs(temp_path)\n",
    "\n",
    "# Create dir for packaging\n",
    "print('Packaging to:', export_name)\n",
    "export_path = os.path.abspath(os.path.join(temp_path, export_name))\n",
    "os.makedirs(export_path)\n",
    "\n",
    "# Copy files from data dir\n",
    "print('Copying files')\n",
    "data_path = os.path.abspath(os.path.join('../../data/main_dataset'))\n",
    "filtered_path = os.path.abspath(os.path.join(data_path, filtered_name))\n",
    "full_path = os.path.abspath(os.path.join(data_path, full_name))\n",
    "task_path = os.path.abspath(os.path.join(data_path, task_name))\n",
    "\n",
    "filtered_destination = os.path.abspath(os.path.join(export_path, 'filtered.csv'))\n",
    "full_destination = os.path.abspath(os.path.join(export_path, 'full.csv'))\n",
    "task_destination = os.path.abspath(os.path.join(export_path, 'task.json'))\n",
    "\n",
    "print('Copying', filtered_path, 'to', filtered_destination)\n",
    "print('Copying', full_path, 'to', full_destination)\n",
    "print('Copying', task_path, 'to', task_destination)\n",
    "\n",
    "shutil.copyfile(filtered_path, filtered_destination)\n",
    "shutil.copyfile(full_path, full_destination)\n",
    "shutil.copyfile(task_path, task_destination)\n",
    "\n",
    "# Zip to data/main_dataset/export_name.zip\n",
    "zip_destination = os.path.abspath(os.path.join(data_path, export_name))\n",
    "print('Zipping', export_path, 'to', zip_destination)\n",
    "shutil.make_archive(zip_destination, 'zip', export_path)\n",
    "\n",
    "\n",
    "# Clean temp dir\n",
    "shutil.rmtree(export_path)"
   ]
  }
 ],
 "metadata": {
  "kernelspec": {
   "display_name": "Python 3",
   "language": "python",
   "name": "python3"
  },
  "language_info": {
   "codemirror_mode": {
    "name": "ipython",
    "version": 3
   },
   "file_extension": ".py",
   "mimetype": "text/x-python",
   "name": "python",
   "nbconvert_exporter": "python",
   "pygments_lexer": "ipython3",
   "version": "3.10.13"
  }
 },
 "nbformat": 4,
 "nbformat_minor": 2
}
