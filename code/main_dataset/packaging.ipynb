{
 "cells": [
  {
   "cell_type": "code",
   "execution_count": 1,
   "metadata": {},
   "outputs": [],
   "source": [
    "# Make temp dir if not exists\n",
    "# Create folder with export_name\n",
    "# Copy files from data dir\n",
    "# Write task definition to task file\n",
    "# zip to data/main_dataset/export_name.zip\n",
    "# clean temp dir"
   ]
  },
  {
   "cell_type": "code",
   "execution_count": 2,
   "metadata": {},
   "outputs": [],
   "source": [
    "import os"
   ]
  },
  {
   "cell_type": "code",
   "execution_count": null,
   "metadata": {},
   "outputs": [],
   "source": [
    "# Config\n",
    "export_name = 'packaging_test'\n"
   ]
  },
  {
   "cell_type": "code",
   "execution_count": null,
   "metadata": {},
   "outputs": [],
   "source": [
    "# Create temp dir if not exists\n",
    "temp_path = os.path.abspath(os.path.join('../../temp'))\n",
    "\n",
    "if not os.path.exists(temp_path) or not os.path.isdir(temp_path):\n",
    "    os.makedirs(temp_path)\n",
    "\n",
    "# Create dir for packaging\n",
    "export_path = os.path.abspath(os.path.join(temp_path, export_name))\n",
    "os.makedirs(export_path)\n",
    "\n",
    "# Copy files from data dir\n"
   ]
  },
  {
   "cell_type": "code",
   "execution_count": null,
   "metadata": {},
   "outputs": [],
   "source": []
  }
 ],
 "metadata": {
  "kernelspec": {
   "display_name": "Python 3",
   "language": "python",
   "name": "python3"
  },
  "language_info": {
   "codemirror_mode": {
    "name": "ipython",
    "version": 3
   },
   "file_extension": ".py",
   "mimetype": "text/x-python",
   "name": "python",
   "nbconvert_exporter": "python",
   "pygments_lexer": "ipython3",
   "version": "3.10.13"
  }
 },
 "nbformat": 4,
 "nbformat_minor": 2
}
