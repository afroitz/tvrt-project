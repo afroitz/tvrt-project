{
 "cells": [
  {
   "cell_type": "code",
   "execution_count": 1,
   "metadata": {},
   "outputs": [],
   "source": [
    "import json\n",
    "import os\n",
    "import pandas as pd\n",
    "import shutil\n",
    "import textwrap\n",
    "import spacy\n",
    "from string import punctuation\n",
    "from spacy.lang.de import stop_words\n",
    "import numpy as np\n",
    "nlp = spacy.load('de_core_news_sm')\n",
    "stop_words = stop_words.STOP_WORDS\n",
    "punctuations = list(punctuation)"
   ]
  },
  {
   "cell_type": "markdown",
   "metadata": {},
   "source": [
    "# Read annotation data\n",
    "The code below reads all annotation files from the annotations directory and matches them to the annotated samples."
   ]
  },
  {
   "cell_type": "code",
   "execution_count": 32,
   "metadata": {},
   "outputs": [],
   "source": [
    "anno_root_dir = os.path.expanduser('../../data/annotation_results/anno_02')"
   ]
  },
  {
   "cell_type": "code",
   "execution_count": 33,
   "metadata": {},
   "outputs": [],
   "source": [
    "# Read all annotations\n",
    "annotations = []\n",
    "\n",
    "# go through dirs for annotators\n",
    "for annotator_dir in os.listdir(anno_root_dir):\n",
    "\n",
    "    # if not directory, skip\n",
    "    if not os.path.isdir(os.path.join(anno_root_dir, annotator_dir)):\n",
    "        continue\n",
    "    \n",
    "    # go through dataset files for each and read annotations\n",
    "    for anno_file in os.listdir(os.path.join(anno_root_dir, annotator_dir)):\n",
    "\n",
    "        if(anno_file == \".DS_Store\"):\n",
    "            continue\n",
    "\n",
    "        with open(os.path.join(anno_root_dir, annotator_dir, anno_file)) as f:\n",
    "\n",
    "            curr_annotated_samples = json.load(f)[\"annotatedSamples\"]\n",
    "\n",
    "            for sample in curr_annotated_samples:\n",
    "                for annotation in sample[\"annotations\"]:\n",
    "                    annotations.append({\n",
    "                        \"annotator\": annotator_dir,\n",
    "                        \"dataset\": anno_file,\n",
    "                        \"sample\": sample[\"sampleIndex\"],\n",
    "                        \"rumor\": annotation[\"rumorIndex\"],\n",
    "                        \"label\": annotation[\"label\"]\n",
    "                    })\n",
    "\n",
    "anno_df = pd.DataFrame(annotations)\n",
    "\n",
    "main_annotations = anno_df[anno_df[\"dataset\"] == \"anno_2.json\"]\n",
    "additional_annotations = anno_df[anno_df[\"dataset\"] == \"anno_2_additional.json\"]"
   ]
  },
  {
   "cell_type": "code",
   "execution_count": 34,
   "metadata": {},
   "outputs": [],
   "source": [
    "# Read datasets\n",
    "main_samples = pd.read_csv(\"../../data/main_dataset/anno_2_set.csv\", index_col=0).reset_index(drop=True)\n",
    "additional_samples = pd.read_csv(\"../../data/main_dataset/anno_2_set-additional.csv\", index_col=0).reset_index(drop=True)\n"
   ]
  },
  {
   "cell_type": "code",
   "execution_count": 35,
   "metadata": {},
   "outputs": [],
   "source": [
    "# Read task\n",
    "with open(\"../../data/tasks/task_v2.json\") as f:\n",
    "    task = json.load(f)"
   ]
  },
  {
   "cell_type": "code",
   "execution_count": null,
   "metadata": {},
   "outputs": [],
   "source": [
    "def get_annotations_for_annotator(row, anno_df, annotator):\n",
    "    relevant_annotations = anno_df[(anno_df[\"sample\"] == row.name) & (anno_df[\"annotator\"] == annotator) & (anno_df[\"label\"] == \"related\")]\n",
    "    return sorted(list(set(relevant_annotations[\"rumor\"].values.tolist())))\n",
    "\n",
    "# Add annotation columns for each annotator to the datasets\n",
    "main_samples[\"alex\"] = main_samples.apply(lambda row: get_annotations_for_annotator(row, main_annotations, \"alex\"), axis=1)\n",
    "main_samples[\"louisa\"] = main_samples.apply(lambda row: get_annotations_for_annotator(row, main_annotations, \"louisa\"), axis=1)\n",
    "\n",
    "additional_samples[\"alex\"] = additional_samples.apply(lambda row: get_annotations_for_annotator(row, additional_annotations, \"alex\"), axis=1)\n",
    "additional_samples[\"louisa\"] = additional_samples.apply(lambda row: get_annotations_for_annotator(row, additional_annotations, \"louisa\"), axis=1)\n",
    "\n",
    "# Compute annotator agreements, differences and general presence of annotations\n",
    "main_same = main_samples[main_samples[\"alex\"] == main_samples[\"louisa\"]]\n",
    "main_different = main_samples[main_samples[\"alex\"] != main_samples[\"louisa\"]]\n",
    "main_any = main_samples[main_samples[\"alex\"].apply(lambda x: len(x) > 0) | main_samples[\"louisa\"].apply(lambda x: len(x) > 0)]\n",
    "\n",
    "additional_same = additional_samples[additional_samples[\"alex\"] == additional_samples[\"louisa\"]]\n",
    "additional_different = additional_samples[additional_samples[\"alex\"] != additional_samples[\"louisa\"]]\n",
    "additional_any = additional_samples[additional_samples[\"alex\"].apply(lambda x: len(x) > 0) | additional_samples[\"louisa\"].apply(lambda x: len(x) > 0)]\n",
    "\n",
    "total_rows_with_annotations = len(main_any) + len(additional_any)\n",
    "total_differences = len(main_different) + len(additional_different)\n",
    "\n",
    "print(f\"Total rows with any annotations: {total_rows_with_annotations}\")\n",
    "print(f\"Total differences: {total_differences}\")"
   ]
  },
  {
   "cell_type": "markdown",
   "metadata": {},
   "source": [
    "# Difference Inspection"
   ]
  },
  {
   "cell_type": "code",
   "execution_count": 42,
   "metadata": {},
   "outputs": [],
   "source": [
    "\"\"\"\n",
    "Get the rumor text for a given index\n",
    "\"\"\"\n",
    "def rumor_index_to_rumor(index):\n",
    "  return task[\"rumors\"][index]\n",
    "\n",
    "\"\"\"\n",
    "Print a text wrapped to fit the terminal width\n",
    "\"\"\"\n",
    "def print_wrapped_to_fit_terminal(text):\n",
    "    if not isinstance(text, str):\n",
    "        text = str(text)\n",
    "\n",
    "    width = shutil.get_terminal_size(fallback=(80, 20)).columns\n",
    "    print(textwrap.fill(text, width=width))\n",
    "\n",
    "\"\"\"\n",
    "Show differences between two annotators.\n",
    "Example: show_differences(additional_samples, \"alex\", \"louisa\")\n",
    "\"\"\"\n",
    "def show_differences(df, annotator_1, annotator_2):\n",
    "  for i, row in df.iterrows():\n",
    "    if row[annotator_1] != row[annotator_2]:\n",
    "      print(\"---\")\n",
    "      print(i)\n",
    "      print(row[\"message_date\"])\n",
    "      print_wrapped_to_fit_terminal(row[\"message_text\"])\n",
    "      print(\"Alex: \", [rumor_index_to_rumor(rumor) for rumor in row[\"alex\"]])\n",
    "      print(\"Louisa: \", [rumor_index_to_rumor(rumor) for rumor in row[\"louisa\"]])\n",
    "      print()"
   ]
  },
  {
   "cell_type": "markdown",
   "metadata": {},
   "source": [
    "# Difference correction\n",
    "The following code adds the annotation changes agreed on during the discussion."
   ]
  },
  {
   "cell_type": "code",
   "execution_count": null,
   "metadata": {},
   "outputs": [],
   "source": [
    "main_samples[\"alex_after\"] = main_samples[\"alex\"]\n",
    "main_samples[\"louisa_after\"] = main_samples[\"louisa\"]\n",
    "\n",
    "additional_samples[\"alex_after\"] = additional_samples[\"alex\"]\n",
    "additional_samples[\"louisa_after\"] = additional_samples[\"louisa\"]\n",
    "\n",
    "main_samples.at[20, \"louisa_after\"] = main_samples.at[20, \"alex_after\"]\n",
    "main_samples.at[34, \"alex_after\"] = main_samples.at[34, \"louisa_after\"]\n",
    "main_samples.at[44, \"louisa_after\"] = main_samples.at[44, \"alex_after\"]\n",
    "main_samples.at[95, \"louisa_after\"] = main_samples.at[95, \"alex_after\"]\n",
    "main_samples.at[205, \"alex_after\"] = main_samples.at[205, \"louisa_after\"]\n",
    "main_samples.at[241, \"louisa_after\"] = main_samples.at[241, \"alex_after\"]\n",
    "main_samples.at[258, \"alex_after\"] = main_samples.at[258, \"louisa_after\"]\n",
    "main_samples.at[273, \"louisa_after\"] = main_samples.at[273, \"alex_after\"]\n",
    "main_samples.at[304, \"louisa_after\"] = main_samples.at[304, \"alex_after\"]\n",
    "main_samples.at[361, \"louisa_after\"] = main_samples.at[361, \"alex_after\"]\n",
    "main_samples.at[365, \"louisa_after\"] = main_samples.at[365, \"alex_after\"]\n",
    "main_samples.at[367, \"louisa_after\"] = main_samples.at[367, \"alex_after\"]\n",
    "main_samples.at[378, \"louisa_after\"] = main_samples.at[378, \"alex_after\"]\n",
    "main_samples.at[402, \"louisa_after\"] = main_samples.at[402, \"alex_after\"]\n",
    "main_samples.at[420, \"louisa_after\"] = main_samples.at[420, \"alex_after\"]\n",
    "main_samples.at[430, \"louisa_after\"] = main_samples.at[430, \"alex_after\"]\n",
    "main_samples.at[457, \"louisa_after\"] = main_samples.at[457, \"alex_after\"]\n",
    "main_samples.at[470, \"louisa_after\"] = main_samples.at[470, \"alex_after\"]\n",
    "main_samples.at[502, \"alex_after\"] = main_samples.at[502, \"louisa_after\"]\n",
    "main_samples.at[516, \"louisa_after\"] = main_samples.at[516, \"alex_after\"]\n",
    "main_samples.at[522, \"louisa_after\"] = main_samples.at[522, \"alex_after\"]\n",
    "main_samples.at[593, \"louisa_after\"] = main_samples.at[593, \"alex_after\"]\n",
    "\n",
    "additional_samples.at[7, \"louisa_after\"] = additional_samples.at[7, \"alex_after\"]\n",
    "additional_samples.at[18, \"louisa_after\"] = additional_samples.at[18, \"alex_after\"]\n",
    "additional_samples.at[47, \"louisa_after\"] = additional_samples.at[47, \"alex_after\"]\n",
    "additional_samples.at[49, \"louisa_after\"] = additional_samples.at[49, \"alex_after\"]\n",
    "additional_samples.at[51, \"alex_after\"] = additional_samples.at[51, \"louisa_after\"]\n",
    "additional_samples.at[52, \"louisa_after\"] = additional_samples.at[52, \"alex_after\"]\n",
    "additional_samples.at[59, \"alex_after\"] = additional_samples.at[59, \"louisa_after\"]\n",
    "\n",
    "all_after_discussion = pd.concat([main_samples, additional_samples])\n",
    "\n",
    "differences_after_discussion = all_after_discussion[all_after_discussion[\"alex_after\"] != all_after_discussion[\"louisa_after\"]]\n",
    "agreed_after_discussion = all_after_discussion[all_after_discussion[\"alex_after\"] == all_after_discussion[\"louisa_after\"]]\n",
    "\n",
    "# print info about unresolved differences after discussion\n",
    "print(f\"Unresolved differences after discussion: {len(all_after_discussion[all_after_discussion['alex_after'] != all_after_discussion['louisa_after']])}\")\n",
    "print()\n",
    "\n",
    "# print info about rumor distribution after discussion\n",
    "agreed_rumors_after_discussion = [item for sublist in agreed_after_discussion[\"alex_after\"].values.tolist() for item in sublist]\n",
    "rumor_counts_after_discussion = pd.Series(agreed_rumors_after_discussion).value_counts()\n",
    "\n",
    "print(\"Distribution of agreed rumors after discussion:\")\n",
    "for rumor_index, count in rumor_counts_after_discussion.items():\n",
    "    print(f\"{rumor_index_to_rumor(rumor_index)}: {count}\")\n",
    "\n",
    "print()\n",
    "\n",
    "# print info about rumors involved in unresolved differences\n",
    "different_rumors_after_discussion = [item for sublist in differences_after_discussion[\"alex_after\"].values.tolist() + differences_after_discussion[\"louisa_after\"].values.tolist() for item in sublist]\n",
    "different_rumor_counts_after_discussion = pd.Series(different_rumors_after_discussion).value_counts()\n",
    "\n",
    "print(\"Distribution of different rumors after discussion:\")\n",
    "for rumor_index, count in different_rumor_counts_after_discussion.items():\n",
    "    print(f\"{rumor_index_to_rumor(rumor_index)}: {count}\")\n"
   ]
  },
  {
   "cell_type": "markdown",
   "metadata": {},
   "source": [
    "# Export annotated dataset"
   ]
  },
  {
   "cell_type": "code",
   "execution_count": 57,
   "metadata": {},
   "outputs": [],
   "source": [
    "all_after_discussion.to_csv(\"../../data/annotation_results/anno_02_annotated.csv\", index=False)"
   ]
  }
 ],
 "metadata": {
  "kernelspec": {
   "display_name": "nlp-general",
   "language": "python",
   "name": "python3"
  },
  "language_info": {
   "codemirror_mode": {
    "name": "ipython",
    "version": 3
   },
   "file_extension": ".py",
   "mimetype": "text/x-python",
   "name": "python",
   "nbconvert_exporter": "python",
   "pygments_lexer": "ipython3",
   "version": "3.11.10"
  }
 },
 "nbformat": 4,
 "nbformat_minor": 2
}
