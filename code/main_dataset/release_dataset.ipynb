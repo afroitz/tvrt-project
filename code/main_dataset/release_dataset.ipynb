{
 "cells": [
  {
   "cell_type": "code",
   "execution_count": 1,
   "metadata": {},
   "outputs": [],
   "source": [
    "import pandas as pd"
   ]
  },
  {
   "cell_type": "code",
   "execution_count": 24,
   "metadata": {},
   "outputs": [],
   "source": [
    "anno_2_annotated = pd.read_csv('../../data/annotation_results/anno_02_annotated.csv', index_col=0).reset_index(drop=True)\n",
    "anno_3_annotated = pd.read_csv('../../data/annotation_results/anno_03_annotated.csv', index_col=0).reset_index(drop=True)\n",
    "all_annotated = pd.concat([anno_2_annotated, anno_3_annotated], ignore_index=True)"
   ]
  },
  {
   "cell_type": "code",
   "execution_count": 25,
   "metadata": {},
   "outputs": [],
   "source": [
    "# Remove unresolved differences\n",
    "all_annotated = all_annotated[all_annotated['alex_after'] == all_annotated['louisa_after']]\n",
    "\n",
    "# drop annotator columns, create main label column\n",
    "all_annotated = all_annotated.drop(columns=['alex', 'louisa', 'alex_after'])\n",
    "all_annotated = all_annotated.rename(columns={'louisa_after': 'label'})\n",
    "\n",
    "# drop columns related to the annotation process\n",
    "all_annotated = all_annotated.drop(columns=['webpage_description_lang', 'message_text_lang', 'langset', 'langset_confident', 'lemma', 'lemma_joined'])"
   ]
  },
  {
   "cell_type": "code",
   "execution_count": 27,
   "metadata": {},
   "outputs": [],
   "source": [
    "# export dataset\n",
    "all_annotated.to_csv('../../data/annotation_results/tvrt_dataset.csv', index=False)"
   ]
  }
 ],
 "metadata": {
  "kernelspec": {
   "display_name": "nlp-general",
   "language": "python",
   "name": "python3"
  },
  "language_info": {
   "codemirror_mode": {
    "name": "ipython",
    "version": 3
   },
   "file_extension": ".py",
   "mimetype": "text/x-python",
   "name": "python",
   "nbconvert_exporter": "python",
   "pygments_lexer": "ipython3",
   "version": "3.11.10"
  }
 },
 "nbformat": 4,
 "nbformat_minor": 2
}
