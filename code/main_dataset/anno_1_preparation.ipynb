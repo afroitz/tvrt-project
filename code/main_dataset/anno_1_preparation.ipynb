{
 "cells": [
  {
   "cell_type": "code",
   "execution_count": 1,
   "metadata": {},
   "outputs": [],
   "source": [
    "import pandas as pd\n",
    "import re\n",
    "from sklearn.feature_extraction.text import TfidfVectorizer\n",
    "from sklearn.metrics.pairwise import cosine_similarity\n",
    "import ast\n",
    "import spacy\n",
    "from string import punctuation\n",
    "from spacy.lang.de import stop_words\n",
    "nlp = spacy.load('de_core_news_sm')\n",
    "stop_words = stop_words.STOP_WORDS\n",
    "punctuations = list(punctuation)"
   ]
  },
  {
   "cell_type": "markdown",
   "metadata": {},
   "source": [
    "# Import datasets"
   ]
  },
  {
   "cell_type": "code",
   "execution_count": 152,
   "metadata": {},
   "outputs": [],
   "source": [
    "df_samples = pd.read_csv('../../data/main_dataset/main_dataset-prepro-0-5000.csv', index_col=0)\n",
    "df_additional = pd.read_csv('../../data/main_dataset/main_dataset-additional-0-5000.csv', index_col=0)"
   ]
  },
  {
   "cell_type": "markdown",
   "metadata": {},
   "source": [
    "# Create topic representation\n",
    "The following code creates topic representations for each of the four rumor topics in german and english."
   ]
  },
  {
   "cell_type": "code",
   "execution_count": 2,
   "metadata": {},
   "outputs": [],
   "source": [
    "topic_representations = {\n",
    "  \"vacc\": {\n",
    "    \"en\": {\n",
    "      \"rumors\": [\n",
    "        'Doctors are being deliberately prevented from educating the public about the dangers of vaccines.',\n",
    "        'The COVID-19 vaccine causes breast cancer in young women.',\n",
    "        'The COVID-19 vaccine causes heart damage in children.',\n",
    "        'The electronic vaccination pass in Austria is intended to be used for digital surveillance.'\n",
    "      ],\n",
    "      \"keywords\": ['Corona', 'Covid', 'Vaccine', 'Vaccinate', 'Vaccination', 'Pandemic', 'MRNA', 'Syringe']\n",
    "    },\n",
    "    \"de\": {\n",
    "      \"rumors\": [\n",
    "        'Ärzte werden gezielt an der Aufklärung über die Gefahren von Impfungen gehindert.',\n",
    "        'Die Corona-Impfung löst Brustkrebs bei jungen Frauen aus.',\n",
    "        'Die Corona-Impfung löst Herzschäden bei Kindern aus.',\n",
    "        'Der elektronische Impfpass in Österreich soll für digitale Überwachung genutzt werden.'\n",
    "      ],\n",
    "      \"keywords\": ['Corona', 'Covid', 'Impfung', 'Impfen', 'Impfstoff', 'Pandemie', 'MRNA', 'Spritze']\n",
    "    },\n",
    "  },\n",
    "  \"trans\": {\n",
    "    \"en\": {\n",
    "      \"rumors\": [\n",
    "        'Transsexuality is a trend triggered by psychological manipulation.',\n",
    "        'Trans propaganda is being deliberately spread in schools.',\n",
    "        'Confronting children and adolescents with the topic of transsexuality harms them.'\n",
    "      ],\n",
    "      \"keywords\": ['Trans', 'Transgender', 'Transsexual', 'Gender', 'Binary', 'Nonbinary', 'Sex', 'Queer', 'LGBT', 'LGBTQ', 'LGBTQ+']\n",
    "    },\n",
    "    \"de\": {\n",
    "      \"rumors\": [\n",
    "        'Transsexuallität ist ein durch psychologische Manipulation ausgelöster Trend.',\n",
    "        'Trans-Propaganda wird gezielt an Schulen verbreitet.',\n",
    "        'Die Konfrontation mit dem Thema Transsexualität schadet Kindern und Jugendlichen.'\n",
    "      ],\n",
    "      \"keywords\": ['Trans', 'Transgender', 'Transsexuell', 'Gender', 'Binär', 'Nichtbinär', 'Geschlecht', 'Queer', 'LGBT', 'LGBTQ', 'LGBTQ+']\n",
    "    },\n",
    "  },\n",
    "  \"brandenburg\": {\n",
    "    \"en\": {\n",
    "      \"rumors\": [\n",
    "        'Targeted propaganda against the AfD is responsible for their election defeat in Brandenburg.',\n",
    "        'There was election fraud in the Brandenburg elections.'\n",
    "      ],\n",
    "      \"keywords\": ['Brandenburg']\n",
    "    },\n",
    "    \"de\": {\n",
    "      \"rumors\": [\n",
    "        'Gezielte Propaganda gegen die AfD ist schuld an deren Wahlniederlage in Brandenburg.',\n",
    "        'Bei den Wahlen in Brandenburg gab es Wahlbetrug.'\n",
    "      ],\n",
    "      \"keywords\": ['Brandenburg']\n",
    "    },\n",
    "  },\n",
    "  \"migrant\": {\n",
    "    \"en\": {\n",
    "      \"rumors\": [\n",
    "        'Financial support for migrants is a financial burden for German citizens.',\n",
    "        'Knife attacks by migrants pose a growing threat to Germany.',\n",
    "        'Turkey is ready to take back up to 500 Turkish citizens per week from Germany.',\n",
    "        'The Mocro Mafia was responsible for the explosion in Cologne on 25.09.'\n",
    "      ],\n",
    "      \"keywords\": ['Migrant', 'Asylum', 'Refugee', 'Foreigner', 'Turkish', 'Arab', 'Muslim', 'Islam', 'Terror']\n",
    "    },\n",
    "    \"de\": {\n",
    "      \"rumors\": [\n",
    "        'Die finanzielle Unterstützung von Migranten stellt eine finanzielle Belastung für deutsche Bürger dar.',\n",
    "        'Messerangriffe durch Migranten stellen eine wachsende Gefahr für Deutschland dar.',\n",
    "        'Die Türkei ist bereit, bis zu 500 türkische Staatsbürger pro Woche aus Deutschland zurückzunehmen.',\n",
    "        'Die Mocro-Mafia war für die Explosion in Köln am 25.09. verantwortlich.'\n",
    "      ],\n",
    "      \"keywords\": ['Migrant', 'Asyl', 'Flüchtling', 'Ausländer', 'Türkisch', 'Araber', 'Kanake', 'Muslim', 'Islam', 'Terror']\n",
    "    },\n",
    "  }\n",
    "}\n",
    "\n",
    "for topic in topic_representations:\n",
    "  for lang in topic_representations[topic]:\n",
    "    topic_representations[topic][lang][\"full\"] = \" \".join(topic_representations[topic][lang][\"rumors\"]) + \" \" + \" \".join(topic_representations[topic][lang][\"keywords\"])"
   ]
  },
  {
   "cell_type": "markdown",
   "metadata": {},
   "source": [
    "# Similarity computation\n",
    "The following code lemmatizes the samples and topic representations, tf-idf vectorizes them and computes the cosine similarity between the samples and the topic representations. For each topic, a dataframe of samples ranked by similarity is created."
   ]
  },
  {
   "cell_type": "code",
   "execution_count": 142,
   "metadata": {},
   "outputs": [],
   "source": [
    "\"\"\"\n",
    "Get the text of a sample\n",
    "\"\"\"\n",
    "def get_row_text(row):\n",
    "\n",
    "    text = \"\"\n",
    "\n",
    "    if type(row['message_text']) == str:\n",
    "        text += row['message_text']\n",
    "\n",
    "    if type(row['webpage_description']) == str:\n",
    "        text += row['webpage_description']\n",
    "\n",
    "    return text\n",
    "\n",
    "punctuations += [\"\\u2796\", \"--\", \"ⓜ\", \"⚡\", \"\\uFEFF\"]\n",
    "\n",
    "\"\"\"\n",
    "Lemmatize text\n",
    "\"\"\"\n",
    "def lemmatize(text):\n",
    "    text = nlp(text)\n",
    "    # lemmatizing\n",
    "    sentence = [ word.lemma_.lower().strip() if word.lemma_ != \"-PRON-\" else word.lower_ for word in text ]\n",
    "    # removing stop words\n",
    "    sentence = [ word for word in sentence if word not in stop_words and word not in punctuations ]        \n",
    "    return sentence"
   ]
  },
  {
   "cell_type": "code",
   "execution_count": 144,
   "metadata": {},
   "outputs": [],
   "source": [
    "df_samples[\"text\"] = df_samples.apply(lambda x: str(x[\"message_text\"]) + str(x[\"webpage_description\"]), axis=1)\n",
    "df_samples['lemma'] = [' '.join(lemmatize(curr_text)) for curr_text in df_samples.text]"
   ]
  },
  {
   "cell_type": "code",
   "execution_count": 145,
   "metadata": {},
   "outputs": [],
   "source": [
    "tfidf_vectorizer = TfidfVectorizer()\n",
    "\n",
    "# TFIDF vectorize dataset\n",
    "samples_tfidf = tfidf_vectorizer.fit_transform(df_samples['lemma'])\n",
    "\n",
    "# tfidf vectorize each topic representation for each language\n",
    "for topic in topic_representations:\n",
    "  curr_topic_tfidfs = {}\n",
    "\n",
    "  for lang in topic_representations[topic]:\n",
    "    curr_topic_lemma = [' '.join(lemmatize(topic_representations[topic][lang][\"full\"]))]\n",
    "    curr_topic_lang_tfidf = tfidf_vectorizer.transform(curr_topic_lemma)\n",
    "    curr_topic_lang_similarities = cosine_similarity(samples_tfidf, curr_topic_lang_tfidf)\n",
    "    df_samples[f\"tfidf_similarity_{topic}_{lang}\"] = curr_topic_lang_similarities\n",
    "\n",
    "\n",
    "def get_lang_aware_similarity(row, topic):\n",
    "  langset = ast.literal_eval(row[\"langset_confident\"])\n",
    "  \n",
    "  if len(langset) == 1 and langset[0] == 'de':\n",
    "    return row[f\"tfidf_similarity_{topic}_de\"]\n",
    "\n",
    "  elif len(langset) == 1 and langset[0] == 'en':\n",
    "    return row[f\"tfidf_similarity_{topic}_en\"]\n",
    "\n",
    "  else:\n",
    "    return (row[f\"tfidf_similarity_{topic}_de\"] + row[f\"tfidf_similarity_{topic}_en\"]) / 2\n",
    "  \n",
    "for topic in topic_representations:\n",
    "  df_samples[f'tfidf_similarity_{topic}'] = df_samples.apply(lambda x: get_lang_aware_similarity(x, topic), axis=1)"
   ]
  },
  {
   "cell_type": "markdown",
   "metadata": {},
   "source": [
    "# Exporting topic datasets"
   ]
  },
  {
   "cell_type": "code",
   "execution_count": 146,
   "metadata": {},
   "outputs": [],
   "source": [
    "df_samples.sort_values(by='tfidf_similarity_vacc', ascending=False).head(1000).to_csv(\"../../data/main_dataset/tvrt_dataset-tfidf_vacc-1000.csv\")\n",
    "df_samples.sort_values(by='tfidf_similarity_migrant', ascending=False).head(1000).to_csv(\"../../data/main_dataset/tvrt_dataset-tfidf_migrant-1000.csv\")\n",
    "df_samples.sort_values(by='tfidf_similarity_brandenburg', ascending=False).head(1000).to_csv(\"../../data/main_dataset/tvrt_dataset-tfidf_brandenburg-1000.csv\")\n",
    "df_samples.sort_values(by='tfidf_similarity_trans', ascending=False).head(1000).to_csv(\"../../data/main_dataset/tvrt_dataset-tfidf_trans-1000.csv\")"
   ]
  }
 ],
 "metadata": {
  "kernelspec": {
   "display_name": "nlp-general",
   "language": "python",
   "name": "python3"
  },
  "language_info": {
   "codemirror_mode": {
    "name": "ipython",
    "version": 3
   },
   "file_extension": ".py",
   "mimetype": "text/x-python",
   "name": "python",
   "nbconvert_exporter": "python",
   "pygments_lexer": "ipython3",
   "version": "3.11.10"
  }
 },
 "nbformat": 4,
 "nbformat_minor": 2
}
