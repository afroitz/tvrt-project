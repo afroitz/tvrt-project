{
 "cells": [
  {
   "cell_type": "code",
   "execution_count": 1,
   "metadata": {},
   "outputs": [],
   "source": [
    "import json\n",
    "import os\n",
    "import pandas as pd\n",
    "import shutil\n",
    "import textwrap\n",
    "import spacy\n",
    "from string import punctuation\n",
    "from spacy.lang.de import stop_words\n",
    "import numpy as np\n",
    "nlp = spacy.load('de_core_news_sm')\n",
    "stop_words = stop_words.STOP_WORDS\n",
    "punctuations = list(punctuation)"
   ]
  },
  {
   "cell_type": "markdown",
   "metadata": {},
   "source": [
    "# Read annotation data\n",
    "The code below reads all annotation files from the annotations directory and matches them to the annotated samples."
   ]
  },
  {
   "cell_type": "code",
   "execution_count": 12,
   "metadata": {},
   "outputs": [],
   "source": [
    "anno_root_dir = os.path.expanduser('../../data/annotation_results/anno_03')"
   ]
  },
  {
   "cell_type": "code",
   "execution_count": 18,
   "metadata": {},
   "outputs": [],
   "source": [
    "# Read all annotations\n",
    "annotations = []\n",
    "\n",
    "# go through dirs for annotators\n",
    "for annotator_dir in os.listdir(anno_root_dir):\n",
    "\n",
    "    # if not directory, skip\n",
    "    if not os.path.isdir(os.path.join(anno_root_dir, annotator_dir)):\n",
    "        continue\n",
    "    \n",
    "    # go through dataset files for each and read annotations\n",
    "    for anno_file in os.listdir(os.path.join(anno_root_dir, annotator_dir)):\n",
    "\n",
    "        if(anno_file == \".DS_Store\"):\n",
    "            continue\n",
    "\n",
    "        with open(os.path.join(anno_root_dir, annotator_dir, anno_file)) as f:\n",
    "\n",
    "            curr_annotated_samples = json.load(f)[\"annotatedSamples\"]\n",
    "\n",
    "            for sample in curr_annotated_samples:\n",
    "                for annotation in sample[\"annotations\"]:\n",
    "                    annotations.append({\n",
    "                        \"annotator\": annotator_dir,\n",
    "                        \"dataset\": anno_file,\n",
    "                        \"sample\": sample[\"sampleIndex\"],\n",
    "                        \"rumor\": annotation[\"rumorIndex\"],\n",
    "                        \"label\": annotation[\"label\"]\n",
    "                    })\n",
    "\n",
    "anno_df = pd.DataFrame(annotations)"
   ]
  },
  {
   "cell_type": "code",
   "execution_count": 19,
   "metadata": {},
   "outputs": [],
   "source": [
    "# Read samples data\n",
    "samples = pd.read_csv(\"../../data/main_dataset/anno_3_set.csv\", index_col=0).reset_index(drop=True)\n",
    "\n",
    "# Read task\n",
    "with open(\"../../data/tasks/task_v2.json\") as f:\n",
    "    task = json.load(f)"
   ]
  },
  {
   "cell_type": "code",
   "execution_count": null,
   "metadata": {},
   "outputs": [],
   "source": [
    "def get_annotations_for_annotator(row, anno_df, annotator):\n",
    "    relevant_annotations = anno_df[(anno_df[\"sample\"] == row.name) & (anno_df[\"annotator\"] == annotator) & (anno_df[\"label\"] == \"related\")]\n",
    "    return sorted(list(set(relevant_annotations[\"rumor\"].values.tolist())))\n",
    "\n",
    "# add annotations to samples\n",
    "samples[\"alex\"] = samples.apply(lambda row: get_annotations_for_annotator(row, anno_df, \"alex\"), axis=1)\n",
    "samples[\"louisa\"] = samples.apply(lambda row: get_annotations_for_annotator(row, anno_df, \"louisa\"), axis=1)\n",
    "\n",
    "# get samples with disagreements, agreemtents and any annotations at all\n",
    "same_anno = samples[samples[\"alex\"] == samples[\"louisa\"]]\n",
    "different_anno = samples[samples[\"alex\"] != samples[\"louisa\"]]\n",
    "any_anno = samples[samples[\"alex\"].apply(lambda x: len(x) > 0) | samples[\"louisa\"].apply(lambda x: len(x) > 0)]\n",
    "\n",
    "total_rows_with_annotations = len(any_anno)\n",
    "total_differences = len(different_anno)\n",
    "\n",
    "print(f\"Total rows with any annotations: {total_rows_with_annotations}\")\n",
    "print(f\"Total differences: {total_differences}\")"
   ]
  },
  {
   "cell_type": "markdown",
   "metadata": {},
   "source": [
    "# Difference Inspection"
   ]
  },
  {
   "cell_type": "code",
   "execution_count": 22,
   "metadata": {},
   "outputs": [],
   "source": [
    "\"\"\"\n",
    "Get the rumor text for a given index\n",
    "\"\"\"\n",
    "def rumor_index_to_rumor(index):\n",
    "  return task[\"rumors\"][index]\n",
    "\n",
    "\"\"\"\n",
    "Print a text wrapped to fit the terminal width\n",
    "\"\"\"\n",
    "def print_wrapped_to_fit_terminal(text):\n",
    "    if not isinstance(text, str):\n",
    "        text = str(text)\n",
    "\n",
    "    width = shutil.get_terminal_size(fallback=(80, 20)).columns\n",
    "    print(textwrap.fill(text, width=width))\n",
    "\n",
    "\"\"\"\n",
    "Show differences between two annotators.\n",
    "Example: show_differences(samples, \"alex\", \"louisa\")\n",
    "\"\"\"\n",
    "def show_differences(df, annotator_1, annotator_2):\n",
    "  for i, row in df.iterrows():\n",
    "    if row[annotator_1] != row[annotator_2]:\n",
    "      print(\"---\")\n",
    "      print(i)\n",
    "      print(row[\"message_date\"])\n",
    "      print_wrapped_to_fit_terminal(row[\"message_text\"])\n",
    "      print(\"Alex: \", [rumor_index_to_rumor(rumor) for rumor in row[\"alex\"]])\n",
    "      print(\"Louisa: \", [rumor_index_to_rumor(rumor) for rumor in row[\"louisa\"]])\n",
    "      print()"
   ]
  },
  {
   "cell_type": "markdown",
   "metadata": {},
   "source": [
    "# Difference correction\n",
    "The following code adds the annotation changes agreed on during the discussion."
   ]
  },
  {
   "cell_type": "code",
   "execution_count": null,
   "metadata": {},
   "outputs": [],
   "source": [
    "samples[\"alex_after\"] = samples[\"alex\"]\n",
    "samples[\"louisa_after\"] = samples[\"louisa\"]\n",
    "\n",
    "samples.at[9, \"louisa_after\"] = samples.at[9, \"alex_after\"]\n",
    "samples.at[69, \"louisa_after\"] = samples.at[69, \"alex_after\"]\n",
    "samples.at[105, \"louisa_after\"] = samples.at[105, \"alex_after\"]\n",
    "samples.at[147, \"louisa_after\"] = samples.at[147, \"alex_after\"]\n",
    "samples.at[214, \"louisa_after\"] = samples.at[214, \"alex_after\"]\n",
    "samples.at[231, \"louisa_after\"] = samples.at[231, \"alex_after\"]\n",
    "samples.at[250, \"louisa_after\"] = samples.at[250, \"alex_after\"]\n",
    "samples.at[256, \"louisa_after\"] = samples.at[256, \"alex_after\"]\n",
    "samples.at[257, \"alex_after\"] = samples.at[257, \"louisa_after\"]\n",
    "samples.at[274, \"louisa_after\"] = samples.at[274, \"alex_after\"]\n",
    "samples.at[307, \"louisa_after\"] = samples.at[307, \"alex_after\"]\n",
    "samples.at[314, \"louisa_after\"] = samples.at[314, \"alex_after\"]\n",
    "samples.at[318, \"alex_after\"] = samples.at[318, \"louisa_after\"]\n",
    "samples.at[348, \"louisa_after\"] = samples.at[348, \"alex_after\"]\n",
    "samples.at[367, \"alex_after\"] = samples.at[367, \"louisa_after\"]\n",
    "samples.at[405, \"alex_after\"] = samples.at[405, \"louisa_after\"]\n",
    "samples.at[408, \"alex_after\"] = samples.at[408, \"louisa_after\"]\n",
    "samples.at[410, \"louisa_after\"] = samples.at[410, \"alex_after\"]\n",
    "samples.at[422, \"alex_after\"] = samples.at[422, \"louisa_after\"]\n",
    "samples.at[439, \"alex_after\"] = samples.at[439, \"louisa_after\"]\n",
    "samples.at[449, \"louisa_after\"] = samples.at[449, \"alex_after\"]\n",
    "samples.at[450, \"louisa_after\"] = samples.at[450, \"alex_after\"]\n",
    "samples.at[492, \"louisa_after\"] = samples.at[492, \"alex_after\"]\n",
    "samples.at[498, \"louisa_after\"] = samples.at[498, \"alex_after\"]\n",
    "samples.at[502, \"alex_after\"] = samples.at[502, \"louisa_after\"]\n",
    "samples.at[511, \"alex_after\"] = samples.at[511, \"louisa_after\"]\n",
    "samples.at[516, \"louisa_after\"] = samples.at[516, \"alex_after\"]\n",
    "samples.at[527, \"alex_after\"] = samples.at[527, \"louisa_after\"]\n",
    "samples.at[566, \"alex_after\"] = samples.at[566, \"louisa_after\"]\n",
    "samples.at[575, \"alex_after\"] = samples.at[575, \"louisa_after\"]\n",
    "samples.at[579, \"louisa_after\"] = samples.at[579, \"alex_after\"]\n",
    "samples.at[592, \"alex_after\"] = samples.at[592, \"louisa_after\"]\n",
    "\n",
    "\n",
    "# print information about unresolved differences after the discussion\n",
    "differences_after_discussion = samples[samples[\"alex_after\"] != samples[\"louisa_after\"]]\n",
    "agreed_after_discussion = samples[samples[\"alex_after\"] == samples[\"louisa_after\"]]\n",
    "\n",
    "print(f\"Unresolved differences after discussion: {len(differences_after_discussion)}\")\n",
    "print()\n",
    "\n",
    "# print informtion about the distribution of rumors after the discussion\n",
    "agreed_rumors_after_discussion = [item for sublist in agreed_after_discussion[\"alex_after\"].values.tolist() for item in sublist]\n",
    "rumor_counts_after_discussion = pd.Series(agreed_rumors_after_discussion).value_counts()\n",
    "\n",
    "print(\"Distribution of agreed rumors after discussion:\")\n",
    "for rumor_index, count in rumor_counts_after_discussion.items():\n",
    "    print(f\"{rumor_index_to_rumor(rumor_index)}: {count}\")\n",
    "\n",
    "print()\n",
    "\n",
    "# print information about the distribution of rumors involved in unresolved differences after the discussion\n",
    "different_rumors_after_discussion = [item for sublist in differences_after_discussion[\"alex_after\"].values.tolist() + differences_after_discussion[\"louisa_after\"].values.tolist() for item in sublist]\n",
    "different_rumor_counts_after_discussion = pd.Series(different_rumors_after_discussion).value_counts()\n",
    "\n",
    "print(\"Distribution of different rumors after discussion:\")\n",
    "for rumor_index, count in different_rumor_counts_after_discussion.items():\n",
    "    print(f\"{rumor_index_to_rumor(rumor_index)}: {count}\")"
   ]
  },
  {
   "cell_type": "markdown",
   "metadata": {},
   "source": [
    "# Export annotated dataset"
   ]
  },
  {
   "cell_type": "code",
   "execution_count": 30,
   "metadata": {},
   "outputs": [],
   "source": [
    "samples.to_csv(\"../../data/annotation_results/anno_03_annotated.csv\", index=False)"
   ]
  }
 ],
 "metadata": {
  "kernelspec": {
   "display_name": "nlp-general",
   "language": "python",
   "name": "python3"
  },
  "language_info": {
   "codemirror_mode": {
    "name": "ipython",
    "version": 3
   },
   "file_extension": ".py",
   "mimetype": "text/x-python",
   "name": "python",
   "nbconvert_exporter": "python",
   "pygments_lexer": "ipython3",
   "version": "3.11.10"
  }
 },
 "nbformat": 4,
 "nbformat_minor": 2
}
