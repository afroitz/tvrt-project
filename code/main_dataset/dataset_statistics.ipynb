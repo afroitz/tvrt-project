{
 "cells": [
  {
   "cell_type": "code",
   "execution_count": 35,
   "metadata": {},
   "outputs": [],
   "source": [
    "import pandas as pd\n",
    "import matplotlib.pyplot as plt\n",
    "from langdetect import detect\n",
    "from langdetect.lang_detect_exception import LangDetectException"
   ]
  },
  {
   "cell_type": "code",
   "execution_count": 2,
   "metadata": {},
   "outputs": [],
   "source": [
    "data_path = '../../data/main_dataset/main_dataset.csv'"
   ]
  },
  {
   "cell_type": "code",
   "execution_count": 3,
   "metadata": {},
   "outputs": [],
   "source": [
    "df = pd.read_csv(data_path)"
   ]
  },
  {
   "cell_type": "markdown",
   "metadata": {},
   "source": [
    "# General dataset statistics"
   ]
  },
  {
   "cell_type": "code",
   "execution_count": null,
   "metadata": {},
   "outputs": [],
   "source": [
    "print(\"DATASET STATISTICS\")\n",
    "print(f\"{len(df)} messages\")\n",
    "\n",
    "messages_in_chats = df[\"chat_handle\"].value_counts()\n",
    "print(f\"From {len(messages_in_chats)} chats\")\n",
    "print(f\"With a mean of {messages_in_chats.mean()} messages per chat\")\n",
    "print(f\"And a median of {messages_in_chats.median()} messages per chat\")\n",
    "print(f\"Max messages in a chat: {messages_in_chats.max()}\")\n",
    "\n",
    "print()\n",
    "\n",
    "forwarded = df[df[\"is_fwd\"] == True]\n",
    "print(f\"Number of forwarded messages: {len(forwarded)} ({len(forwarded) / len(df) * 100:.2f}%)\")"
   ]
  },
  {
   "cell_type": "markdown",
   "metadata": {},
   "source": [
    "# Distribution of messages over time"
   ]
  },
  {
   "cell_type": "code",
   "execution_count": null,
   "metadata": {},
   "outputs": [],
   "source": [
    "df['message_date'] = pd.to_datetime(df['message_date'])\n",
    "daily_messages = df.set_index('message_date').resample('D').size()\n",
    "relevant_daily_messages = daily_messages['2024-09-19':'2024-09-28']\n",
    "relevant_daily_messages.plot(kind='bar', figsize=(12, 6))\n",
    "\n",
    "ax = relevant_daily_messages.plot(kind='bar', figsize=(12, 6))\n",
    "ax.set_xlabel(\"Date\")\n",
    "ax.set_ylabel(\"Message Count\")\n",
    "ax.set_xticklabels([d.strftime('%m-%d') for d in relevant_daily_messages.index], rotation=45, ha='right')\n",
    "plt.show()"
   ]
  },
  {
   "cell_type": "markdown",
   "metadata": {},
   "source": [
    "# Language distribution"
   ]
  },
  {
   "cell_type": "code",
   "execution_count": 37,
   "metadata": {},
   "outputs": [],
   "source": [
    "def detect_row_lang(text):\n",
    "  if pd.isna(text):\n",
    "    return None\n",
    "  \n",
    "  text = str(text)\n",
    "\n",
    "  try:\n",
    "    return detect(text)\n",
    "  except LangDetectException:\n",
    "    return None\n",
    "\n",
    "df[\"language\"] = df[\"message_text\"].apply(lambda x: detect_row_lang(x))"
   ]
  },
  {
   "cell_type": "code",
   "execution_count": null,
   "metadata": {},
   "outputs": [],
   "source": [
    "other_cutoff = 500\n",
    "\n",
    "lang_counts = df[\"language\"].value_counts(dropna=False)\n",
    "other_count = lang_counts[lang_counts < 500].sum()\n",
    "lang_counts = lang_counts[lang_counts >=500]\n",
    "lang_counts[\"other\"] = other_count\n",
    "lang_counts.rename({\n",
    "  None: \"unclear/mixed\",\n",
    "  \"en\": \"english\",\n",
    "  \"de\": \"german\",\n",
    "  \"ru\": \"russian\",\n",
    "  \"it\": \"italian\",\n",
    "  }, inplace=True)\n",
    "\n",
    "display(lang_counts)\n",
    "ax = lang_counts.plot(kind='pie', figsize=(12, 6))\n",
    "ax.set_ylabel(\"\")"
   ]
  }
 ],
 "metadata": {
  "kernelspec": {
   "display_name": "nlp-general",
   "language": "python",
   "name": "python3"
  },
  "language_info": {
   "codemirror_mode": {
    "name": "ipython",
    "version": 3
   },
   "file_extension": ".py",
   "mimetype": "text/x-python",
   "name": "python",
   "nbconvert_exporter": "python",
   "pygments_lexer": "ipython3",
   "version": "3.11.10"
  }
 },
 "nbformat": 4,
 "nbformat_minor": 2
}
