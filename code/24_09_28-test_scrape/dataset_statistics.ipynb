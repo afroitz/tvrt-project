{
 "cells": [
  {
   "cell_type": "code",
   "execution_count": 18,
   "metadata": {},
   "outputs": [],
   "source": [
    "import pandas as pd"
   ]
  },
  {
   "cell_type": "code",
   "execution_count": null,
   "metadata": {},
   "outputs": [],
   "source": [
    "df = pd.read_csv('../../data/24_09_28-test_scrape/24_09_28-test_scrape-raw.csv', index_col=0)\n",
    "\n",
    "print(\"DATASET STATISTICS\")\n",
    "print(f\"{len(df)} messages\")\n",
    "\n",
    "messages_in_chats = df[\"chat_handle\"].value_counts()\n",
    "print(f\"From {len(messages_in_chats)} chats\")\n",
    "print(f\"With a mean of {messages_in_chats.mean():.2f} messages per chat\")\n"
   ]
  }
 ],
 "metadata": {
  "kernelspec": {
   "display_name": "nlp-general",
   "language": "python",
   "name": "python3"
  },
  "language_info": {
   "codemirror_mode": {
    "name": "ipython",
    "version": 3
   },
   "file_extension": ".py",
   "mimetype": "text/x-python",
   "name": "python",
   "nbconvert_exporter": "python",
   "pygments_lexer": "ipython3",
   "version": "3.11.10"
  }
 },
 "nbformat": 4,
 "nbformat_minor": 2
}
