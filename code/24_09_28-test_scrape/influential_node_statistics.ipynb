{
 "cells": [
  {
   "cell_type": "code",
   "execution_count": 1,
   "metadata": {},
   "outputs": [],
   "source": [
    "import pandas as pd"
   ]
  },
  {
   "cell_type": "code",
   "execution_count": 15,
   "metadata": {},
   "outputs": [],
   "source": [
    "data_path = '../../data/24_09_28-test_scrape/24_09_28-test_scrape-prepro.csv'\n",
    "\n",
    "influential_node_names = [\n",
    "    \"macklemachtgutelaune\",\n",
    "    \"WaldgangAlbdruck\",\n",
    "    \"koppreport\",\n",
    "    \"rechtsanwaeltin_beate_bahner\",\n",
    "    \"Sondershausen_geht_spazieren\",\n",
    "    \"icic_law_news\",\n",
    "    \"EmDeEllMedia\",\n",
    "    \"rosenbusch\",\n",
    "    \"uncut_news\"\n",
    "]\n",
    "\n",
    "patterns = [\n",
    "  {\n",
    "    \"name\": \"Trans\",\n",
    "    \"pattern\": \"(trans(?!(port|form|paren|pir|action|it|kript|atlanti|fer|fusion|aktion|human|cript|lat|nation|nistri))|(?<!(undle|vorra|leidi))(?<!(fol|rre|dri|ewe|sor|tra|tei))gender|binär|binary|geschlecht|queer|lgbt)\"\n",
    "  },\n",
    "  {\n",
    "    \"name\": \"Migrant\",\n",
    "    \"pattern\": \"(migrant|asyl|flücht|refug|ausländ|türk|arab|kanak|muslim|islam|terror)\"\n",
    "  },\n",
    "  {\n",
    "    \"name\": \"Brandenburg\",\n",
    "    \"pattern\": \"brandenburg\"\n",
    "  },\n",
    "  {\n",
    "    \"name\": \"Corona\",\n",
    "    \"pattern\": \"(corona|covid|(?<!(sch|ngl))impf|vacc|pandem|mrna|spritze)\"\n",
    "  }\n",
    "]"
   ]
  },
  {
   "cell_type": "code",
   "execution_count": 16,
   "metadata": {},
   "outputs": [],
   "source": [
    "df = pd.read_csv(data_path, index_col=0)"
   ]
  },
  {
   "cell_type": "code",
   "execution_count": null,
   "metadata": {},
   "outputs": [],
   "source": [
    "matches = {}\n",
    "\n",
    "for node in influential_node_names:\n",
    "    print(node)\n",
    "    node_df = df[df['chat_handle'] == node]\n",
    "\n",
    "    node_matches = {\n",
    "        \"total\": node_df.shape[0]\n",
    "    }\n",
    "\n",
    "    for pattern in patterns:\n",
    "        matching_df = node_df[node_df['message_text'].str.contains(pattern['pattern'], case=False, na=False)]\n",
    "        print(f\"{pattern['name']} matches: {matching_df.shape[0]} / {node_df.shape[0]} ({matching_df.shape[0] / node_df.shape[0] * 100:.2f}%)\")\n",
    "        node_matches[pattern['name']] = matching_df.shape[0]\n",
    "        node_matches[pattern['name'] + \"_ratio\"] = matching_df.shape[0] / node_df.shape[0] * 100\n",
    "\n",
    "    matches[node] = node_matches\n",
    "\n",
    "    print(\"---\")\n",
    "\n",
    "matches_df = pd.DataFrame.from_dict(matches, orient='index')\n",
    "\n",
    "display(matches_df)"
   ]
  },
  {
   "cell_type": "code",
   "execution_count": null,
   "metadata": {},
   "outputs": [],
   "source": [
    "# print the top three of every ratio column and set of all chats appearing in top 3s\n",
    "top_chats = []\n",
    "\n",
    "for pattern in patterns:\n",
    "    print(f\"Top 3 {pattern['name']} matches:\")\n",
    "    pattern_top_chats = matches_df.sort_values(by=pattern['name'] + \"_ratio\", ascending=False).head(3).index.to_list()\n",
    "    print(pattern_top_chats)\n",
    "    top_chats.extend(pattern_top_chats)\n",
    "    print(\"---\")\n",
    "\n",
    "top_chats = list(set(top_chats))\n",
    "print(\"Chats appearing in top 3 of any ratio column:\")\n",
    "print(top_chats)"
   ]
  }
 ],
 "metadata": {
  "kernelspec": {
   "display_name": "Python 3",
   "language": "python",
   "name": "python3"
  },
  "language_info": {
   "codemirror_mode": {
    "name": "ipython",
    "version": 3
   },
   "file_extension": ".py",
   "mimetype": "text/x-python",
   "name": "python",
   "nbconvert_exporter": "python",
   "pygments_lexer": "ipython3",
   "version": "3.10.13"
  }
 },
 "nbformat": 4,
 "nbformat_minor": 2
}
