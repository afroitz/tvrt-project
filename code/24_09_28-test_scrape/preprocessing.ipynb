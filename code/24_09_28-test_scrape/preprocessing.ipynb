{
 "cells": [
  {
   "cell_type": "code",
   "execution_count": 7,
   "metadata": {},
   "outputs": [],
   "source": [
    "import pandas as pd\n",
    "\n",
    "raw_data_path = '../../data/24_09_28-test_scrape/24_09_28-test_scrape-raw.csv'"
   ]
  },
  {
   "cell_type": "markdown",
   "metadata": {},
   "source": [
    "# Reading the dataset"
   ]
  },
  {
   "cell_type": "code",
   "execution_count": 9,
   "metadata": {},
   "outputs": [],
   "source": [
    "df_raw = pd.read_csv(raw_data_path, index_col=0)"
   ]
  },
  {
   "cell_type": "markdown",
   "metadata": {},
   "source": [
    "# Preprocessing and filtering"
   ]
  },
  {
   "cell_type": "code",
   "execution_count": 10,
   "metadata": {},
   "outputs": [],
   "source": [
    "\"\"\"\n",
    "Exclude unnecessary columns from the dataset\n",
    "\"\"\"\n",
    "def exclude_columns(df):\n",
    "  columns_to_exclude = ['collection_time', 'sender_first_name', 'sender_last_name', 'sender_display_name', 'sender_username', 'fwd_from_user_name', 'post_author', 'is_group_elem', 'message_group_id']\n",
    "  return df.drop(columns=columns_to_exclude)\n",
    "\n",
    "\"\"\" \n",
    "Remove unwanted messages from the dataset:\n",
    "- Polls\n",
    "- Messages without text (except for those referencing a webpage)\n",
    "- Messages that are replies to messages that are not in the dataset\n",
    "\"\"\"\n",
    "def filter_dataset(df, full_df):\n",
    "  # filter out polls\n",
    "  df = df[df['message_media_type'] != 'MessageMediaPoll']\n",
    "\n",
    "  # filter out messages without text except for those referencing a webpage\n",
    "  df = df[df['message_text'].notna() | (df['message_media_type'] == 'MessageMediaWebPage')]\n",
    "\n",
    "  # remove messages that are replies to messages that are not in the datasetet\n",
    "  replies = df[df['reply_to_message_id'].notna()]\n",
    "\n",
    "  for index, row in replies.iterrows():\n",
    "    reply_to_message_id = row['reply_to_message_id']\n",
    "    chat_handle = row['chat_handle']\n",
    "    same_chat_df = full_df[full_df['chat_handle'] == chat_handle]\n",
    "\n",
    "    # if message is a reply to a message that is not in the dataset, remove it.\n",
    "    if reply_to_message_id not in same_chat_df['telegram_message_id'].values:\n",
    "      df = df.drop(index)\n",
    "  \n",
    "  # reset index\n",
    "  df.reset_index(drop=True, inplace=True)\n",
    "\n",
    "  return df\n"
   ]
  },
  {
   "cell_type": "code",
   "execution_count": null,
   "metadata": {},
   "outputs": [],
   "source": [
    "# preprocessing which applies to all data, so no filtering\n",
    "df_prepro = exclude_columns(df_raw)\n",
    "df_additional = exclude_columns(df_raw)\n",
    "\n",
    "# filtering\n",
    "df_prepro = filter_dataset(df_prepro, df_raw)\n",
    "\n",
    "# shuffle dataset\n",
    "df_prepro = df_prepro.sample(frac=1).reset_index(drop=True)\n"
   ]
  },
  {
   "cell_type": "markdown",
   "metadata": {},
   "source": [
    "# Exporting the data\n",
    "- Filtered dataset for rumor extraction\n",
    "- Unfiltered dataset for potentially resolving reply threads "
   ]
  },
  {
   "cell_type": "code",
   "execution_count": 12,
   "metadata": {},
   "outputs": [],
   "source": [
    "df_prepro.to_csv('../../data/24_09_28-test_scrape/24_09_28-test_scrape-prepro.csv')\n",
    "df_additional.to_csv('../../data/24_09_28-test_scrape/24_09_28-test_scrape-additional')"
   ]
  }
 ],
 "metadata": {
  "kernelspec": {
   "display_name": "Python 3",
   "language": "python",
   "name": "python3"
  },
  "language_info": {
   "codemirror_mode": {
    "name": "ipython",
    "version": 3
   },
   "file_extension": ".py",
   "mimetype": "text/x-python",
   "name": "python",
   "nbconvert_exporter": "python",
   "pygments_lexer": "ipython3",
   "version": "3.10.13"
  }
 },
 "nbformat": 4,
 "nbformat_minor": 2
}
